{
 "cells": [
  {
   "cell_type": "code",
   "execution_count": null,
   "id": "387ac2bb",
   "metadata": {},
   "outputs": [],
   "source": [
    "import json\n",
    "import os\n",
    "import random\n",
    "import tkinter\n",
    "from tkinter import filedialog\n",
    "import shutil"
   ]
  },
  {
   "cell_type": "code",
   "execution_count": null,
   "id": "8b6ef289",
   "metadata": {},
   "outputs": [],
   "source": [
    "cookies_folder = \"cookies\""
   ]
  },
  {
   "cell_type": "code",
   "execution_count": null,
   "id": "72f54d22",
   "metadata": {},
   "outputs": [],
   "source": [
    "rand_number = random.randint(1, 99999)"
   ]
  },
  {
   "cell_type": "code",
   "execution_count": null,
   "id": "1e4e850c",
   "metadata": {},
   "outputs": [],
   "source": [
    "def convert_netscape_cookie_to_json(cookie_file_content):\n",
    "    cookies = []\n",
    "    for line in cookie_file_content.splitlines():\n",
    "        fields = line.strip().split(\"\\t\")\n",
    "        if len(fields) >= 7:\n",
    "            cookie = {\n",
    "                \"domain\": fields[0],\n",
    "                \"flag\": fields[1],\n",
    "                \"path\": fields[2],\n",
    "                \"secure\": fields[3] == \"TRUE\",\n",
    "                \"expiration\": fields[4],\n",
    "                \"name\": fields[5],\n",
    "                \"value\": fields[6],\n",
    "            }\n",
    "            cookies.append(cookie)\n",
    "\n",
    "    JSON_DATA = json.dumps(cookies, indent=4)\n",
    "    return JSON_DATA"
   ]
  },
  {
   "cell_type": "code",
   "execution_count": null,
   "id": "64e645f3",
   "metadata": {},
   "outputs": [],
   "source": [
    "path = \"json_cookies\"\n",
    "try:\n",
    "    os.mkdir(path)\n",
    "    print(f\"Folder {path} created!\")\n",
    "    for filename in os.listdir(cookies_folder):\n",
    "        filepath = os.path.join(cookies_folder, filename)\n",
    "        if os.path.isfile(filepath):\n",
    "            with open(filepath, \"r\", encoding=\"utf-8\") as file:\n",
    "                content = file.read()\n",
    "\n",
    "            json_data = convert_netscape_cookie_to_json(content)\n",
    "\n",
    "            with open(f\"json_cookies/{filename}\", \"w\", encoding=\"utf-8\") as f:\n",
    "                f.write(json_data)\n",
    "                print(f\"{filename} - DONE!\")"
   ]
  },
  {
   "cell_type": "code",
   "execution_count": null,
   "id": "b9d0a82a",
   "metadata": {},
   "outputs": [],
   "source": [
    "except FileExistsError:\n",
    "    if (\n",
    "        input(\n",
    "            \"Do you want to remove old cookies folder? (y/n)\\n [y] Recommended \\n > : \"\n",
    "        )\n",
    "        == \"y\"\n",
    "    ):\n",
    "        shutil.rmtree(path)\n",
    "        os.mkdir(path)\n",
    "        for filename in os.listdir(cookies_folder):\n",
    "            filepath = os.path.join(cookies_folder, filename)\n",
    "            if os.path.isfile(filepath):\n",
    "                with open(filepath, \"r\", encoding=\"utf-8\") as file:\n",
    "                    content = file.read()\n",
    "\n",
    "                json_data = convert_netscape_cookie_to_json(content)\n",
    "\n",
    "                with open(f\"json_cookies/{filename}\", \"w\", encoding=\"utf-8\") as f:\n",
    "                    f.write(json_data)\n",
    "                    print(f\"{filename} - DONE!\")\n",
    "\n",
    "    else:\n",
    "        os.mkdir(str(f\"temp {rand_number}\"))\n",
    "        for filename in os.listdir(cookies_folder):\n",
    "            filepath = os.path.join(cookies_folder, filename)\n",
    "            if os.path.isfile(filepath):\n",
    "                with open(filepath, \"r\") as file:\n",
    "                    content = file.read()\n",
    "\n",
    "                json_data = convert_netscape_cookie_to_json(content)\n",
    "\n",
    "                with open(f\"temp {rand_number}/{filename}\", \"w\", encoding=\"utf-8\") as f:\n",
    "                    f.write(json_data)\n",
    "                    print(f\"{filename} - DONE!\")\n",
    "\n",
    "        print(f\"\\n\\nsaved cookies to the temp folder - temp {rand_number}\")"
   ]
  }
 ],
 "metadata": {
  "jupytext": {
   "cell_metadata_filter": "-all",
   "main_language": "python",
   "notebook_metadata_filter": "-all"
  }
 },
 "nbformat": 4,
 "nbformat_minor": 5
}
