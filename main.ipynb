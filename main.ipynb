{
 "cells": [
  {
   "cell_type": "code",
   "execution_count": null,
   "outputs": [],
   "source": [
    "!git clone https://github.com/matheeshapathirana/Netflix-cookie-checker.git\n",
    "%cd Netflix-cookie-checker\n",
    "!mkdir json_cookies\n",
    "!pip install -r requirements.txt"
   ],
   "metadata": {
    "collapsed": false
   }
  },
  {
   "cell_type": "code",
   "execution_count": null,
   "outputs": [],
   "source": [
    "import json\n",
    "import os\n",
    "import time"
   ],
   "metadata": {
    "collapsed": false
   }
  },
  {
   "cell_type": "code",
   "execution_count": null,
   "id": "65f164b6",
   "metadata": {},
   "outputs": [],
   "source": [
    "from selenium import webdriver\n",
    "from selenium.webdriver.common.by import By"
   ]
  },
  {
   "cell_type": "code",
   "execution_count": null,
   "id": "2eead5b2",
   "metadata": {},
   "outputs": [],
   "source": [
    "working_cookies_path = \"working_cookies\""
   ]
  },
  {
   "cell_type": "code",
   "execution_count": null,
   "id": "b0d83914",
   "metadata": {},
   "outputs": [],
   "source": [
    "def load_cookies_from_json(FILEPATH):\n",
    "    with open(FILEPATH, \"r\") as cookie_file:\n",
    "        cookie = json.load(cookie_file)\n",
    "    return cookie"
   ]
  },
  {
   "cell_type": "code",
   "execution_count": null,
   "id": "7ab32de9",
   "metadata": {},
   "outputs": [],
   "source": [
    "def open_webpage_with_cookies(URL, COOKIES):\n",
    "    options = webdriver.ChromeOptions()\n",
    "    options.add_argument('--headless')\n",
    "    options.add_argument('--no-sandbox')\n",
    "    options.add_argument('--disable-dev-shm-usage')\n",
    "    # open it, go to a website, and get results\n",
    "    driver = webdriver.Chrome(options=options)\n",
    "\n",
    "    driver.get(URL)\n",
    "\n",
    "    for cookie in COOKIES:\n",
    "        driver.add_cookie(cookie)\n",
    "\n",
    "    driver.refresh()\n",
    "    driver.get_cookies\n",
    "\n",
    "    if driver.find_elements(By.CSS_SELECTOR, \".btn\"):\n",
    "        print(f\"Cookie Not working - {filename}\")\n",
    "        driver.quit()\n",
    "    else:\n",
    "        print(f\"Working cookie found! - {filename}\")\n",
    "        try:\n",
    "            os.mkdir(working_cookies_path)\n",
    "            with open(f\"working_cookies/{filename})\", \"w\") as a:\n",
    "                a.write(content)\n",
    "            driver.quit()\n",
    "\n",
    "        except:\n",
    "            with open(f\"working_cookies/{filename}\", \"w\") as a:\n",
    "                a.write(content)\n",
    "            driver.quit()"
   ]
  },
  {
   "cell_type": "code",
   "execution_count": null,
   "id": "fd3f5d97",
   "metadata": {},
   "outputs": [],
   "source": [
    "for filename in os.listdir(\"json_cookies\"):\n",
    "    filepath = os.path.join(\"json_cookies\", filename)\n",
    "    if os.path.isfile(filepath):\n",
    "        with open(filepath, \"r\") as file:\n",
    "            content = file.read()\n",
    "\n",
    "            url = \"https://netflix.com/login\"\n",
    "\n",
    "            try:\n",
    "                print(\"We are trying....\")\n",
    "                cookies = load_cookies_from_json(filepath)\n",
    "                open_webpage_with_cookies(url, cookies)\n",
    "            except:\n",
    "                print(f\"Invalid Cookie or webdriver error - {filename}\")\n",
    "                time.sleep(2)"
   ]
  }
 ],
 "metadata": {
  "jupytext": {
   "cell_metadata_filter": "-all",
   "main_language": "python",
   "notebook_metadata_filter": "-all"
  }
 },
 "nbformat": 4,
 "nbformat_minor": 5
}
